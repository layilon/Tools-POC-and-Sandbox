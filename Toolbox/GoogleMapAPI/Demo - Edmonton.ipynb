{
  "cells": [
    {
      "cell_type": "markdown",
      "metadata": {
        "id": "1DzaJVYOcIWa"
      },
      "source": [
        "# API for Google Maps\n",
        "## Case: \"Private Banking Advisers at BCB Edmonton\" ([UVA-QA-0905](http://store.darden.virginia.edu/private-banking-advisers-at-bcb-edmonton-a), [0906](http://store.darden.virginia.edu/private-banking-advisers-at-bcb-edmonton-b-visualizing-the-business), [0907](http://store.darden.virginia.edu/private-banking-advisers-at-bcb-edmonton-c-calculating-travel-times))\n",
        "\n",
        "[Application Programming Interface (API)](https://en.wikipedia.org/wiki/API) allows one program communicate with another. \n",
        "\n",
        "Recall the BCB Edmonton case: the case protagonist needs to determine how many private bankers advisers she needs for the region, where should they be located, and which of the 35 branches should be covered by which advisor. A sub-task to this problem is to determine how long it will take an advisor with a home base at branch 'i' to travel to branch 'j' and back to cover for the appointments at 'j'. \n",
        "\n",
        "How would you go about finding the travel time from point A to point B in your daily life? Most likely, you would use a mapping app on your computer or smartphone -- Google Maps, Bing Maps, Yandex Maps, or the like. You would type the origin address (that of point A), the destination address (that of point B), the travel mode (walking, driving, etc.) and the time (now, or some time in the future). The app would then give you the estimated travel time. \n",
        "\n",
        "The code below does just that for 35x35 = 1,225 origin-destination pairs corresponding to the BCB branches in Edmonton.\n",
        "\n",
        "<b> Note: </b> To use the code you will need to obtain the Google Maps Distance Matrix API key, which can be requested here https://developers.google.com/maps/documentation/distance-matrix/get-api-key#key You will need to enter your credit card number, but the personal use of the API within the scope of this case should not lead to any cost. Do not share your API key with others (if many people use your key, you may be billed)."
      ]
    },
    {
      "cell_type": "code",
      "execution_count": null,
      "metadata": {
        "id": "ZzXJa9-JcIWe"
      },
      "outputs": [],
      "source": [
        "# Start by importing (loading) the necessary packages and libraries\n",
        "\n",
        "import json\n",
        "import requests\n",
        "import csv\n",
        "import pandas as pd"
      ]
    },
    {
      "cell_type": "code",
      "execution_count": null,
      "metadata": {
        "id": "LcHBAxzwcIWf"
      },
      "outputs": [],
      "source": [
        "# This block defines several custom functions which are necessary since Google Maps API only allows 25 origin-destination pairs at a time\n",
        "# 1) API_response function is actually interacting with Google Maps API\n",
        "# 2) chunks function is splitting the larger set of origin-destinations into chunks of less than 25\n",
        "# 3) getDistance function is using the API_response function with chunks function to obtain the results for all the origin-destination pairs\n",
        "\n",
        "def API_response(origin,destinations,time):\n",
        "\n",
        "    base_url = 'https://maps.googleapis.com/maps/api/distancematrix/json?'\n",
        "\n",
        "    # your own Google Maps Distance Matrix API key goes here: \n",
        "    #api_key = '[*]' \n",
        "\n",
        "    parameters = {'origins': origin,\n",
        "            'destinations' : '|'.join(destinations),\n",
        "            'mode' : 'driving',\n",
        "            'key' : api_key,\n",
        "            'departure_time' : time }\n",
        "\n",
        "    r = requests.get(base_url, params = parameters)\n",
        "\n",
        "    r = r.json()\n",
        "\n",
        "    results = r['rows'][0]['elements']\n",
        "\n",
        "    # Google only allows a certain number of API calls per second (to stay within the free API)\n",
        "    # This artifically slows the process to allow the whole matrix to be processed\n",
        "    i = 0\n",
        "    while i < 10000000:\n",
        "        i = i + 1\n",
        "    \n",
        "    return results\n",
        "\n",
        "def chunks(lst, n):\n",
        "    for i in range(0, len(lst), n):\n",
        "        yield lst[i:i + n]\n",
        "\n",
        "       \n",
        "def getDistance(full_origins,destinations,time):\n",
        "\n",
        "    new_dict = {}\n",
        "\n",
        "    for origin in full_origins:\n",
        "\n",
        "        new_list = []\n",
        "\n",
        "        for sub_destinations in chunks(destinations, 24):\n",
        "            results = API_response(origin, sub_destinations, time)\n",
        "            new_list.extend([result['duration']['text'] for result in results])\n",
        "\n",
        "        new_dict[origin] = new_list\n",
        "\n",
        "    return new_dict"
      ]
    },
    {
      "cell_type": "code",
      "execution_count": null,
      "metadata": {
        "colab": {
          "base_uri": "https://localhost:8080/"
        },
        "id": "K7vpgiE8cIWg",
        "outputId": "a0ebd2ec-239c-499e-8ef4-735984472df3"
      },
      "outputs": [
        {
          "data": {
            "text/plain": [
              "1638037730"
            ]
          },
          "execution_count": 3,
          "metadata": {},
          "output_type": "execute_result"
        }
      ],
      "source": [
        "# Google Maps API uses UNIX time -- the number of seconds since Jan. 1, 1970\n",
        "# For example, Dec 7, 2020 at 9am EST is 1607331600\n",
        "\n",
        "# However, according to the API documentation, datetime cannot be in the past; it must be \"now\" or in the future\n",
        "# The code below will set the time to be one hour (3600 seconds) after the time when this code is ran\n",
        "# Alternatively students could use any the desired departure time (in the form of a UNIX timestamp integer) \n",
        "\n",
        "from datetime import datetime\n",
        "\n",
        "time = int(datetime.timestamp(datetime.now())) + 3600 \n",
        "time\n"
      ]
    },
    {
      "cell_type": "code",
      "execution_count": null,
      "metadata": {
        "colab": {
          "base_uri": "https://localhost:8080/"
        },
        "id": "KMDHFX0hcIWh",
        "outputId": "49bd5238-6365-4f67-c733-cd891b5ec4c9"
      },
      "outputs": [
        {
          "name": "stdout",
          "output_type": "stream",
          "text": [
            "['T4X0B6', 'T5A5C1', 'T5B0S1', 'T5E4C6', 'T5J1V7', 'T5J3N3', 'T5K0M8', 'T5L4Z6', 'T5M2L7', 'T5M3L7', 'T5T1K8', 'T5T5L5', 'T5Y0L2', 'T5Z3J8', 'T6B0P2', 'T6E2A3', 'T6E5A7', 'T6H5T1', 'T6J6P9', 'T6K4B4', 'T6R0G4', 'T6T0C2', 'T6V1J6', 'T6W1A2', 'T6X0P2', 'T7X2K6', 'T7Z2W7', 'T8A4N5', 'T8A5V9', 'T8H1S8', 'T8L3W2', 'T8N3L3', 'T8N5T8', 'T8R1R4', 'T9E6Z7']\n",
            "['T4X0B6', 'T5A5C1', 'T5B0S1', 'T5E4C6', 'T5J1V7', 'T5J3N3', 'T5K0M8', 'T5L4Z6', 'T5M2L7', 'T5M3L7', 'T5T1K8', 'T5T5L5', 'T5Y0L2', 'T5Z3J8', 'T6B0P2', 'T6E2A3', 'T6E5A7', 'T6H5T1', 'T6J6P9', 'T6K4B4', 'T6R0G4', 'T6T0C2', 'T6V1J6', 'T6W1A2', 'T6X0P2', 'T7X2K6', 'T7Z2W7', 'T8A4N5', 'T8A5V9', 'T8H1S8', 'T8L3W2', 'T8N3L3', 'T8N5T8', 'T8R1R4', 'T9E6Z7']\n"
          ]
        }
      ],
      "source": [
        "# Read the (A) case data file (converted into the CSV) and process the PostalCode column by removing the space\n",
        "\n",
        "inputs_df = pd.read_excel(\"/content/qa-0905x.xlsx\", header = 0)\n",
        "\n",
        "origins = list(inputs_df[\"PostalCode\"].str.split(\" \").str.join('')) # this is to remove the space between the postal codes\n",
        "\n",
        "# Duplicate the list of origins to creat the list of destinations \n",
        "destinations = origins.copy()\n",
        "\n",
        "print(origins)\n",
        "print(destinations)"
      ]
    },
    {
      "cell_type": "code",
      "execution_count": null,
      "metadata": {
        "colab": {
          "base_uri": "https://localhost:8080/"
        },
        "id": "UkuVC3IkcIWi",
        "outputId": "fcc1b1ce-831b-4356-a70c-46a02b5310a4"
      },
      "outputs": [
        {
          "name": "stdout",
          "output_type": "stream",
          "text": [
            "[['T4X0B6', 'T5A5C1', 'T5B0S1', 'T5E4C6', 'T5J1V7', 'T5J3N3', 'T5K0M8', 'T5L4Z6', 'T5M2L7', 'T5M3L7', 'T5T1K8', 'T5T5L5', 'T5Y0L2', 'T5Z3J8', 'T6B0P2', 'T6E2A3', 'T6E5A7', 'T6H5T1', 'T6J6P9', 'T6K4B4', 'T6R0G4', 'T6T0C2', 'T6V1J6', 'T6W1A2'], ['T6X0P2', 'T7X2K6', 'T7Z2W7', 'T8A4N5', 'T8A5V9', 'T8H1S8', 'T8L3W2', 'T8N3L3', 'T8N5T8', 'T8R1R4', 'T9E6Z7']]\n"
          ]
        }
      ],
      "source": [
        "# Visualize the result of the 'chunks' function: the list of 35 is split into two: one with 24 elements and another with 11\n",
        "\n",
        "print(list(chunks(destinations, 24)))"
      ]
    },
    {
      "cell_type": "code",
      "execution_count": null,
      "metadata": {
        "id": "_V5j7dv9cIWj"
      },
      "outputs": [],
      "source": [
        "# Call the function getDistance, which will obtain the results, and print them for visual inspection\n",
        "\n",
        "result = getDistance(origins, destinations, time)\n",
        "\n",
        "print(result)"
      ]
    },
    {
      "cell_type": "code",
      "execution_count": null,
      "metadata": {
        "id": "O0qxV1ZbcIWj",
        "lines_to_next_cell": 2
      },
      "outputs": [],
      "source": [
        "# Convert the result to a pandas dataframe for easier manipulation\n",
        "\n",
        "result_pd = pd.DataFrame(result)   \n",
        "\n",
        "# Remove \"mins\" from each entry result and convert the numeric values from strings to numbers\n",
        "\n",
        "for col in result_pd:\n",
        "    result_pd[col] = result_pd[col].str.split(' ').str[0].astype('float') \n",
        "\n",
        "result_pd.index = result_pd.columns"
      ]
    },
    {
      "cell_type": "code",
      "execution_count": null,
      "metadata": {
        "id": "m34w1OPrcIWk"
      },
      "outputs": [],
      "source": [
        "# Finally, write the resultant matrix of travel times to a csv file\n",
        "\n",
        "result_pd.to_csv('Matrix_of_travel_times.csv')"
      ]
    }
  ],
  "metadata": {
    "colab": {
      "name": "07 PYTHON code -- BCB (Google Maps API for travel times)_ENG.ipynb",
      "provenance": []
    },
    "jupytext": {
      "formats": "ipynb,py:percent"
    },
    "kernelspec": {
      "display_name": "Python 3",
      "language": "python",
      "name": "python3"
    },
    "language_info": {
      "codemirror_mode": {
        "name": "ipython",
        "version": 3
      },
      "file_extension": ".py",
      "mimetype": "text/x-python",
      "name": "python",
      "nbconvert_exporter": "python",
      "pygments_lexer": "ipython3",
      "version": "3.6.9"
    },
    "toc": {
      "base_numbering": 1,
      "nav_menu": {},
      "number_sections": true,
      "sideBar": true,
      "skip_h1_title": false,
      "title_cell": "Table of Contents",
      "title_sidebar": "Contents",
      "toc_cell": false,
      "toc_position": {},
      "toc_section_display": true,
      "toc_window_display": false
    }
  },
  "nbformat": 4,
  "nbformat_minor": 0
}
