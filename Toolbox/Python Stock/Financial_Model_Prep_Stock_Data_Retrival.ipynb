{
  "cells": [
    {
      "cell_type": "code",
      "execution_count": null,
      "metadata": {
        "id": "hQRRY2PUiG3P"
      },
      "outputs": [],
      "source": [
        "import matplotlib.pyplot as plt\n",
        "import seaborn as sns"
      ]
    },
    {
      "cell_type": "code",
      "execution_count": null,
      "metadata": {
        "id": "XWoVLQHgM9PB"
      },
      "outputs": [],
      "source": [
        "import pandas as pd"
      ]
    },
    {
      "cell_type": "code",
      "execution_count": null,
      "metadata": {
        "id": "2H4_XjjfwdUq"
      },
      "outputs": [],
      "source": [
        "import numpy as np"
      ]
    },
    {
      "cell_type": "code",
      "execution_count": null,
      "metadata": {
        "id": "-hbgtemJB2NE"
      },
      "outputs": [],
      "source": [
        "import urllib.request, json\n",
        "import requests\n",
        "from requests import Request, Session\n",
        "from requests.auth import HTTPBasicAuth\n",
        "from requests.exceptions import ConnectionError, Timeout, TooManyRedirects"
      ]
    },
    {
      "cell_type": "code",
      "execution_count": null,
      "metadata": {
        "id": "t_P3JDJ3OIrB"
      },
      "outputs": [],
      "source": [
        "from datetime import datetime\n",
        "import datetime as dt\n",
        "import pytz"
      ]
    },
    {
      "cell_type": "code",
      "execution_count": null,
      "metadata": {
        "id": "uE8odD5BNWCP"
      },
      "outputs": [],
      "source": [
        "from pandas import * "
      ]
    },
    {
      "cell_type": "code",
      "execution_count": null,
      "metadata": {
        "id": "DR9tIyeceHLg"
      },
      "outputs": [],
      "source": [
        "from dateutil import tz"
      ]
    },
    {
      "cell_type": "markdown",
      "metadata": {
        "id": "8kB8oJ32hvdM"
      },
      "source": [
        "# **Stock data preparation**"
      ]
    },
    {
      "cell_type": "markdown",
      "metadata": {
        "id": "ajdvYNzYuEjK"
      },
      "source": [
        "Function sourcing data from Financial Modelling Prep API\n",
        "\n",
        "**Please Input API key below prior to running**"
      ]
    },
    {
      "cell_type": "code",
      "execution_count": null,
      "metadata": {
        "id": "pX-GTZfvwjhU"
      },
      "outputs": [],
      "source": [
        "fmpapi='[*]' #input api key"
      ]
    },
    {
      "cell_type": "code",
      "execution_count": null,
      "metadata": {
        "id": "KKjqTY57LLTd"
      },
      "outputs": [],
      "source": [
        "def fmp_data(ticker): #Hourly data\n",
        "  with urllib.request.urlopen('https://financialmodelingprep.com/api/v3/historical-chart/1hour/'+ticker+'?apikey='+fmpapi) as url:\n",
        "    data = json.loads(url.read().decode())\n",
        "    df = pd.DataFrame(json_normalize(data))\n",
        "    df['ticker'] = ticker\n",
        "    df['date'] = pd.to_datetime(df['date'])\n",
        "    df['timestampGMT']= df['date'].dt.tz_localize('US/Eastern').dt.tz_convert('UTC')\n",
        "    df = df.sort_values(['ticker','timestampGMT'],ascending=True)\n",
        "    return df"
      ]
    },
    {
      "cell_type": "code",
      "execution_count": null,
      "metadata": {
        "id": "8hRYWVJpJBna"
      },
      "outputs": [],
      "source": [
        "def sp500():\n",
        "  with urllib.request.urlopen('https://financialmodelingprep.com/api/v3/sp500_constituent?apikey='+fmpapi) as url:\n",
        "    data = json.loads(url.read().decode())\n",
        "    df = pd.DataFrame(json_normalize(data))\n",
        "    return df\n",
        "tickers = sp500()"
      ]
    },
    {
      "cell_type": "markdown",
      "metadata": {
        "id": "5qBMaE93MBk-"
      },
      "source": [
        "**Populate closing price data for tickers below**"
      ]
    },
    {
      "cell_type": "code",
      "execution_count": null,
      "metadata": {
        "id": "JuvWXncSJMP7"
      },
      "outputs": [],
      "source": [
        "tickers = ['TSM','V','PG','KO','ABT','AZN','TD','C','GS','CNQ']"
      ]
    },
    {
      "cell_type": "code",
      "execution_count": null,
      "metadata": {
        "id": "u77zeqyKLKhy"
      },
      "outputs": [],
      "source": [
        "for i in tickers:\n",
        "    vars()[i] = fmp_data(i)"
      ]
    },
    {
      "cell_type": "code",
      "execution_count": null,
      "metadata": {
        "id": "q3OBsSRERSok"
      },
      "outputs": [],
      "source": [
        "frames = [TSM,V,PG,KO,ABT,AZN,TD,C,GS,CNQ]"
      ]
    },
    {
      "cell_type": "code",
      "execution_count": null,
      "metadata": {
        "id": "NZ8GeLjjQ1Im"
      },
      "outputs": [],
      "source": [
        "df_tickers = pd.concat(\n",
        "    frames,\n",
        "    axis=0,\n",
        "    join=\"outer\",\n",
        "    ignore_index=False,\n",
        "    keys=None,\n",
        "    levels=None,\n",
        "    names=None,\n",
        "    verify_integrity=False,\n",
        "    copy=True,\n",
        ")"
      ]
    },
    {
      "cell_type": "code",
      "execution_count": null,
      "metadata": {
        "colab": {
          "base_uri": "https://localhost:8080/",
          "height": 423
        },
        "id": "XcbG0P1MvIzC",
        "outputId": "3191869c-4084-4db0-bfb5-38b67780360e"
      },
      "outputs": [
        {
          "data": {
            "text/html": [
              "\n",
              "  <div id=\"df-9b967c34-3144-4fc5-84ff-b06ab57bdd7b\">\n",
              "    <div class=\"colab-df-container\">\n",
              "      <div>\n",
              "<style scoped>\n",
              "    .dataframe tbody tr th:only-of-type {\n",
              "        vertical-align: middle;\n",
              "    }\n",
              "\n",
              "    .dataframe tbody tr th {\n",
              "        vertical-align: top;\n",
              "    }\n",
              "\n",
              "    .dataframe thead th {\n",
              "        text-align: right;\n",
              "    }\n",
              "</style>\n",
              "<table border=\"1\" class=\"dataframe\">\n",
              "  <thead>\n",
              "    <tr style=\"text-align: right;\">\n",
              "      <th></th>\n",
              "      <th>close</th>\n",
              "      <th>volume</th>\n",
              "      <th>ticker</th>\n",
              "      <th>timestampGMT</th>\n",
              "    </tr>\n",
              "  </thead>\n",
              "  <tbody>\n",
              "    <tr>\n",
              "      <th>410</th>\n",
              "      <td>121.70</td>\n",
              "      <td>1057687</td>\n",
              "      <td>TSM</td>\n",
              "      <td>2021-12-08 15:00:00+00:00</td>\n",
              "    </tr>\n",
              "    <tr>\n",
              "      <th>409</th>\n",
              "      <td>121.76</td>\n",
              "      <td>682084</td>\n",
              "      <td>TSM</td>\n",
              "      <td>2021-12-08 16:00:00+00:00</td>\n",
              "    </tr>\n",
              "    <tr>\n",
              "      <th>408</th>\n",
              "      <td>121.52</td>\n",
              "      <td>449256</td>\n",
              "      <td>TSM</td>\n",
              "      <td>2021-12-08 17:00:00+00:00</td>\n",
              "    </tr>\n",
              "    <tr>\n",
              "      <th>407</th>\n",
              "      <td>121.78</td>\n",
              "      <td>470468</td>\n",
              "      <td>TSM</td>\n",
              "      <td>2021-12-08 18:00:00+00:00</td>\n",
              "    </tr>\n",
              "    <tr>\n",
              "      <th>406</th>\n",
              "      <td>121.83</td>\n",
              "      <td>432526</td>\n",
              "      <td>TSM</td>\n",
              "      <td>2021-12-08 19:00:00+00:00</td>\n",
              "    </tr>\n",
              "    <tr>\n",
              "      <th>...</th>\n",
              "      <td>...</td>\n",
              "      <td>...</td>\n",
              "      <td>...</td>\n",
              "      <td>...</td>\n",
              "    </tr>\n",
              "    <tr>\n",
              "      <th>4</th>\n",
              "      <td>59.75</td>\n",
              "      <td>749036</td>\n",
              "      <td>CNQ</td>\n",
              "      <td>2022-03-03 15:00:00+00:00</td>\n",
              "    </tr>\n",
              "    <tr>\n",
              "      <th>3</th>\n",
              "      <td>59.93</td>\n",
              "      <td>548826</td>\n",
              "      <td>CNQ</td>\n",
              "      <td>2022-03-03 16:00:00+00:00</td>\n",
              "    </tr>\n",
              "    <tr>\n",
              "      <th>2</th>\n",
              "      <td>59.65</td>\n",
              "      <td>410093</td>\n",
              "      <td>CNQ</td>\n",
              "      <td>2022-03-03 17:00:00+00:00</td>\n",
              "    </tr>\n",
              "    <tr>\n",
              "      <th>1</th>\n",
              "      <td>58.60</td>\n",
              "      <td>464051</td>\n",
              "      <td>CNQ</td>\n",
              "      <td>2022-03-03 18:00:00+00:00</td>\n",
              "    </tr>\n",
              "    <tr>\n",
              "      <th>0</th>\n",
              "      <td>58.37</td>\n",
              "      <td>152876</td>\n",
              "      <td>CNQ</td>\n",
              "      <td>2022-03-03 19:00:00+00:00</td>\n",
              "    </tr>\n",
              "  </tbody>\n",
              "</table>\n",
              "<p>4286 rows × 4 columns</p>\n",
              "</div>\n",
              "      <button class=\"colab-df-convert\" onclick=\"convertToInteractive('df-9b967c34-3144-4fc5-84ff-b06ab57bdd7b')\"\n",
              "              title=\"Convert this dataframe to an interactive table.\"\n",
              "              style=\"display:none;\">\n",
              "        \n",
              "  <svg xmlns=\"http://www.w3.org/2000/svg\" height=\"24px\"viewBox=\"0 0 24 24\"\n",
              "       width=\"24px\">\n",
              "    <path d=\"M0 0h24v24H0V0z\" fill=\"none\"/>\n",
              "    <path d=\"M18.56 5.44l.94 2.06.94-2.06 2.06-.94-2.06-.94-.94-2.06-.94 2.06-2.06.94zm-11 1L8.5 8.5l.94-2.06 2.06-.94-2.06-.94L8.5 2.5l-.94 2.06-2.06.94zm10 10l.94 2.06.94-2.06 2.06-.94-2.06-.94-.94-2.06-.94 2.06-2.06.94z\"/><path d=\"M17.41 7.96l-1.37-1.37c-.4-.4-.92-.59-1.43-.59-.52 0-1.04.2-1.43.59L10.3 9.45l-7.72 7.72c-.78.78-.78 2.05 0 2.83L4 21.41c.39.39.9.59 1.41.59.51 0 1.02-.2 1.41-.59l7.78-7.78 2.81-2.81c.8-.78.8-2.07 0-2.86zM5.41 20L4 18.59l7.72-7.72 1.47 1.35L5.41 20z\"/>\n",
              "  </svg>\n",
              "      </button>\n",
              "      \n",
              "  <style>\n",
              "    .colab-df-container {\n",
              "      display:flex;\n",
              "      flex-wrap:wrap;\n",
              "      gap: 12px;\n",
              "    }\n",
              "\n",
              "    .colab-df-convert {\n",
              "      background-color: #E8F0FE;\n",
              "      border: none;\n",
              "      border-radius: 50%;\n",
              "      cursor: pointer;\n",
              "      display: none;\n",
              "      fill: #1967D2;\n",
              "      height: 32px;\n",
              "      padding: 0 0 0 0;\n",
              "      width: 32px;\n",
              "    }\n",
              "\n",
              "    .colab-df-convert:hover {\n",
              "      background-color: #E2EBFA;\n",
              "      box-shadow: 0px 1px 2px rgba(60, 64, 67, 0.3), 0px 1px 3px 1px rgba(60, 64, 67, 0.15);\n",
              "      fill: #174EA6;\n",
              "    }\n",
              "\n",
              "    [theme=dark] .colab-df-convert {\n",
              "      background-color: #3B4455;\n",
              "      fill: #D2E3FC;\n",
              "    }\n",
              "\n",
              "    [theme=dark] .colab-df-convert:hover {\n",
              "      background-color: #434B5C;\n",
              "      box-shadow: 0px 1px 3px 1px rgba(0, 0, 0, 0.15);\n",
              "      filter: drop-shadow(0px 1px 2px rgba(0, 0, 0, 0.3));\n",
              "      fill: #FFFFFF;\n",
              "    }\n",
              "  </style>\n",
              "\n",
              "      <script>\n",
              "        const buttonEl =\n",
              "          document.querySelector('#df-9b967c34-3144-4fc5-84ff-b06ab57bdd7b button.colab-df-convert');\n",
              "        buttonEl.style.display =\n",
              "          google.colab.kernel.accessAllowed ? 'block' : 'none';\n",
              "\n",
              "        async function convertToInteractive(key) {\n",
              "          const element = document.querySelector('#df-9b967c34-3144-4fc5-84ff-b06ab57bdd7b');\n",
              "          const dataTable =\n",
              "            await google.colab.kernel.invokeFunction('convertToInteractive',\n",
              "                                                     [key], {});\n",
              "          if (!dataTable) return;\n",
              "\n",
              "          const docLinkHtml = 'Like what you see? Visit the ' +\n",
              "            '<a target=\"_blank\" href=https://colab.research.google.com/notebooks/data_table.ipynb>data table notebook</a>'\n",
              "            + ' to learn more about interactive tables.';\n",
              "          element.innerHTML = '';\n",
              "          dataTable['output_type'] = 'display_data';\n",
              "          await google.colab.output.renderOutput(dataTable, element);\n",
              "          const docLink = document.createElement('div');\n",
              "          docLink.innerHTML = docLinkHtml;\n",
              "          element.appendChild(docLink);\n",
              "        }\n",
              "      </script>\n",
              "    </div>\n",
              "  </div>\n",
              "  "
            ],
            "text/plain": [
              "      close   volume ticker              timestampGMT\n",
              "410  121.70  1057687    TSM 2021-12-08 15:00:00+00:00\n",
              "409  121.76   682084    TSM 2021-12-08 16:00:00+00:00\n",
              "408  121.52   449256    TSM 2021-12-08 17:00:00+00:00\n",
              "407  121.78   470468    TSM 2021-12-08 18:00:00+00:00\n",
              "406  121.83   432526    TSM 2021-12-08 19:00:00+00:00\n",
              "..      ...      ...    ...                       ...\n",
              "4     59.75   749036    CNQ 2022-03-03 15:00:00+00:00\n",
              "3     59.93   548826    CNQ 2022-03-03 16:00:00+00:00\n",
              "2     59.65   410093    CNQ 2022-03-03 17:00:00+00:00\n",
              "1     58.60   464051    CNQ 2022-03-03 18:00:00+00:00\n",
              "0     58.37   152876    CNQ 2022-03-03 19:00:00+00:00\n",
              "\n",
              "[4286 rows x 4 columns]"
            ]
          },
          "execution_count": 26,
          "metadata": {},
          "output_type": "execute_result"
        }
      ],
      "source": [
        "df_tickers"
      ]
    },
    {
      "cell_type": "code",
      "execution_count": null,
      "metadata": {
        "id": "QzLWEPr3Srxq"
      },
      "outputs": [],
      "source": [
        "df_tickers.reset_index(inplace=True, drop=True)"
      ]
    },
    {
      "cell_type": "code",
      "execution_count": null,
      "metadata": {
        "id": "Zl7h7mTUOEUY"
      },
      "outputs": [],
      "source": [
        "df_tickers.to_csv('pv.csv')"
      ]
    }
  ],
  "metadata": {
    "colab": {
      "collapsed_sections": [],
      "name": "Financial Model Prep - Stock Data Retrival",
      "provenance": []
    },
    "kernelspec": {
      "display_name": "Python 3",
      "name": "python3"
    },
    "language_info": {
      "name": "python"
    }
  },
  "nbformat": 4,
  "nbformat_minor": 0
}
